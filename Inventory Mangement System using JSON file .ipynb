{
 "cells": [
  {
   "cell_type": "code",
   "execution_count": 68,
   "id": "a9eff902-eec8-49eb-8a23-2d7168141688",
   "metadata": {},
   "outputs": [
    {
     "name": "stdout",
     "output_type": "stream",
     "text": [
      "------------------------Menu-----------------------------\n",
      "\n",
      "1 : Five-Star | 5 | 0\n",
      "2 : Barbon | 15 | 44\n",
      "3 : kit-kat | 25 | 125\n",
      "4 : Dairy Milk | 40 | 45\n",
      "5 : Gai mithai | 2 | 297\n",
      "-----------------------------------------------------\n",
      "                      Bill                           \n",
      "\n"
     ]
    },
    {
     "name": "stdin",
     "output_type": "stream",
     "text": [
      "Enter your name Manish\n",
      "Enter your Email Manish@gmail.com\n",
      "Enter your Contact Details 2\n",
      "Enter user product ID :  3\n",
      "Enter user product Quantity :  2\n"
     ]
    },
    {
     "name": "stdout",
     "output_type": "stream",
     "text": [
      "Name :  kit-kat\n",
      "Price :  25\n",
      "Quantity :   2\n",
      "------------------------------------------------------\n",
      "\n",
      "The  total bill of  kit-kat is 50\n"
     ]
    }
   ],
   "source": [
    "import json \n",
    "import time\n",
    "fd = open(\"Inventory.json\", 'r')\n",
    "js = fd.read()\n",
    "fd.close()\n",
    "\n",
    "sales = ''\n",
    "\n",
    "record = json.loads(js)\n",
    "\n",
    "print(\"------------------------Menu-----------------------------\\n\")\n",
    "\n",
    "\n",
    "for key in record.keys():\n",
    "    print(key, \":\",  record[key][\"Name\"] ,\"|\", record[key][\"Price\"],\"|\", record[key][\"Quantity\"])\n",
    "print(\"-----------------------------------------------------\")\n",
    "print(\"                      Bill                           \\n\")\n",
    "\n",
    "ui_name = str(input(\"Enter your name\"))\n",
    "ui_mail = str(input(\"Enter your Email\"))\n",
    "ui_contact = str(input(\"Enter your Contact Details\"))\n",
    "\n",
    "\n",
    "ui_pr = str(input(\"Enter user product ID : \"))\n",
    "ui_qn = int(input(\"Enter user product Quantity : \"))\n",
    "\n",
    "if record[ui_pr]['Quantity'] >= ui_qn:\n",
    "    record[ui_pr][\"Quantity\"] = record[ui_pr][\"Quantity\"] -  ui_qn\n",
    "\n",
    "    print(\"Name : \",record[ui_pr][\"Name\"])\n",
    "    print(\"Price : \",record[ui_pr][\"Price\"])\n",
    "    print(\"Quantity :  \",ui_qn)\n",
    "    print(\"------------------------------------------------------\\n\")\n",
    "    Bill = record[ui_pr][\"Price\"] * ui_qn\n",
    "    print ( \"The  total bill of \", record[ui_pr][\"Name\"], \"is\" , Bill)\n",
    "    sales = ui_name + \",\" + ui_mail + \",\"+ ui_contact + \",\"+record[ui_pr][\"Name\"] + \",\" + str(record[ui_pr][\"Price\"] )+ \",\"+  str(ui_qn) + \",\" + str(Bill)+ \",\"+ time.ctime()+ \"\\n\"\n",
    "\n",
    "else:\n",
    "    print(\"Sorry We don't have enough Quantity \")\n",
    "    print(\"We only have\", record[ui_pr][\"Quantity\"],'.')\n",
    "    print(\"If you want to take print Y otherwise N\")\n",
    "\n",
    "    ch = input(\"Enter Y/y If you want\")\n",
    "    if ch == 'y' or ch =='Y':\n",
    "        print(\"Name : \",record[ui_pr][\"Name\"])\n",
    "        print(\"Price : \",record[ui_pr][\"Price\"])\n",
    "        print(\"Quantity :\", record[ui_pr][\"Quantity\"])\n",
    "        print(\"------------------------------------------------------\\n\")\n",
    "        Bill = record[ui_pr][\"Price\"] * record[ui_pr][\"Quantity\"]\n",
    "        print ( \"The  total bill of \", record[ui_pr][\"Name\"], \"is\" , Bill)\n",
    "        sales = ui_name + \",\" + ui_mail + \",\"+ ui_contact + \",\"+record[ui_pr][\"Name\"] + \",\" + str(record[ui_pr][\"Price\"] )+ \",\"+  str(record[ui_pr][\"Quantity\"]) + \",\" + str(Bill)+ \",\"+ time.ctime()+ '\\n'\n",
    "\n",
    "        record[ui_pr][\"Quantity\"] = 0\n",
    "        \n",
    "    else:\n",
    "        print(\"Sorry for the Inconvience we had\")\n",
    "        print(\"Thank you for visiting\")\n",
    "\n",
    "\n",
    "js = json.dumps(record)\n",
    "\n",
    "fd = open(\"Inventory.json\", 'w')\n",
    "fd.write(js)\n",
    "fd.close()\n",
    "\n",
    "sl = open(\"Sales.txt\", 'a')\n",
    "sl.write(sales)\n",
    "sl.close()"
   ]
  }
 ],
 "metadata": {
  "kernelspec": {
   "display_name": "Python 3 (ipykernel)",
   "language": "python",
   "name": "python3"
  },
  "language_info": {
   "codemirror_mode": {
    "name": "ipython",
    "version": 3
   },
   "file_extension": ".py",
   "mimetype": "text/x-python",
   "name": "python",
   "nbconvert_exporter": "python",
   "pygments_lexer": "ipython3",
   "version": "3.11.5"
  }
 },
 "nbformat": 4,
 "nbformat_minor": 5
}
