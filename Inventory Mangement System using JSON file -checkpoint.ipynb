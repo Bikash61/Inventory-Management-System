{
 "cells": [
  {
   "cell_type": "code",
   "execution_count": 32,
   "id": "8fd2944f-568c-4c5e-bb21-5b3630be3d18",
   "metadata": {},
   "outputs": [
    {
     "name": "stdout",
     "output_type": "stream",
     "text": [
      "{1: {'Name': 'Five-Star', 'Price': 5, 'Quantity': 100}, 2: {'Name': 'Barbon', 'Price': 15, 'Quantity': 80}, 3: {'Name': 'kit-kat', 'Price': 25, 'Quantity': 125}, 4: {'Name': 'Dairy Milk', 'Price': 40, 'Quantity': 48}, 5: {'Name': 'Gai mithai', 'Price': 2, 'Quantity': 300}}\n"
     ]
    }
   ],
   "source": []
  },
  {
   "cell_type": "code",
   "execution_count": 29,
   "id": "a9eff902-eec8-49eb-8a23-2d7168141688",
   "metadata": {},
   "outputs": [
    {
     "name": "stdout",
     "output_type": "stream",
     "text": [
      "------------------------Menu-----------------------------\n",
      "\n",
      "1 : Five-Star | 5 | 100\n",
      "2 : Barbon | 15 | 73\n",
      "3 : kit-kat | 25 | 125\n",
      "4 : Dairy Milk | 40 | 48\n",
      "5 : Gai mithai | 2 | 300\n",
      "-----------------------------------------------------\n",
      "                      Bill                           \n",
      "\n"
     ]
    },
    {
     "name": "stdin",
     "output_type": "stream",
     "text": [
      "Enter user product ID :  1\n",
      "Enter user product Quantity :  10002\n"
     ]
    },
    {
     "name": "stdout",
     "output_type": "stream",
     "text": [
      "Sorry We don't have enough Quantity \n",
      "We only have 100 .\n",
      "If you want to take print Y otherwise N\n"
     ]
    },
    {
     "name": "stdin",
     "output_type": "stream",
     "text": [
      "Enter Y/y If you want y\n"
     ]
    },
    {
     "name": "stdout",
     "output_type": "stream",
     "text": [
      "Name :  Five-Star\n",
      "Price :  5\n",
      "Quantity : 100\n",
      "------------------------------------------------------\n",
      "\n",
      "The  total bill of  Five-Star is 500\n"
     ]
    }
   ],
   "source": [
    "import json \n",
    "fd = open(\"Inventory.json\", 'r')\n",
    "js = fd.read()\n",
    "fd.close()\n",
    "\n",
    "\n",
    "record = json.loads(js)\n",
    "\n",
    "print(\"------------------------Menu-----------------------------\\n\")\n",
    "\n",
    "\n",
    "for key in record.keys():\n",
    "    print(key, \":\",  record[key][\"Name\"] ,\"|\", record[key][\"Price\"],\"|\", record[key][\"Quantity\"])\n",
    "print(\"-----------------------------------------------------\")\n",
    "print(\"                      Bill                           \\n\")\n",
    "ui_pr = str(input(\"Enter user product ID : \"))\n",
    "ui_qn = int(input(\"Enter user product Quantity : \"))\n",
    "\n",
    "if record[ui_pr]['Quantity'] >= ui_qn:\n",
    "    record[ui_pr][\"Quantity\"] = record[ui_pr][\"Quantity\"] -  ui_qn\n",
    "\n",
    "    print(\"Name : \",record[ui_pr][\"Name\"])\n",
    "    print(\"Price : \",record[ui_pr][\"Price\"])\n",
    "    print(\"Quantity :  \",ui_qn)\n",
    "    print(\"------------------------------------------------------\\n\")\n",
    "    Bill = record[ui_pr][\"Price\"] * ui_qn\n",
    "    print ( \"The  total bill of \", record[ui_pr][\"Name\"], \"is\" , Bill) \n",
    "else:\n",
    "    print(\"Sorry We don't have enough Quantity \")\n",
    "    print(\"We only have\", record[ui_pr][\"Quantity\"],'.')\n",
    "    print(\"If you want to take print Y otherwise N\")\n",
    "\n",
    "    ch = input(\"Enter Y/y If you want\")\n",
    "    if ch == 'y' or ch =='Y':\n",
    "        print(\"Name : \",record[ui_pr][\"Name\"])\n",
    "        print(\"Price : \",record[ui_pr][\"Price\"])\n",
    "        print(\"Quantity :\", record[ui_pr][\"Quantity\"])\n",
    "        print(\"------------------------------------------------------\\n\")\n",
    "        Bill = record[ui_pr][\"Price\"] * record[ui_pr][\"Quantity\"]\n",
    "        print ( \"The  total bill of \", record[ui_pr][\"Name\"], \"is\" , Bill)\n",
    "        record[ui_pr][\"Quantity\"] = 0\n",
    "    else:\n",
    "        print(\"Sorry for the Inconvience we had\")\n",
    "        print(\"Thank you for visiting\")\n",
    "    \n",
    "        \n",
    "    \n",
    "     \n",
    "\n",
    "    \n",
    "    \n",
    "   \n",
    "\n",
    "js = json.dumps(record)\n",
    "\n",
    "fd = open(\"Inventory.json\", 'w')\n",
    "fd.write(js)\n",
    "fd.close()\n"
   ]
  },
  {
   "cell_type": "code",
   "execution_count": 8,
   "id": "1f36edfe-e455-47d9-9609-de0948649730",
   "metadata": {},
   "outputs": [
    {
     "data": {
      "text/plain": [
       "{'Name': 'Five-Star', 'Price': 5, 'Quantity': 100}"
      ]
     },
     "execution_count": 8,
     "metadata": {},
     "output_type": "execute_result"
    }
   ],
   "source": [
    "record['1']"
   ]
  },
  {
   "cell_type": "code",
   "execution_count": 12,
   "id": "b23187e1-199e-4c06-a2ee-b2106737fd6b",
   "metadata": {},
   "outputs": [
    {
     "name": "stdout",
     "output_type": "stream",
     "text": [
      "We have enough Quantity\n"
     ]
    }
   ],
   "source": [
    "\n"
   ]
  },
  {
   "cell_type": "code",
   "execution_count": null,
   "id": "0ce431bf-b89d-48e8-ba23-6758e1d7d30b",
   "metadata": {},
   "outputs": [],
   "source": []
  },
  {
   "cell_type": "code",
   "execution_count": null,
   "id": "b885c2d9-9b77-44c8-b228-721a090555c6",
   "metadata": {},
   "outputs": [],
   "source": []
  },
  {
   "cell_type": "code",
   "execution_count": 3,
   "id": "747073e1-6f83-4a12-8283-c0a77b9a0c64",
   "metadata": {},
   "outputs": [],
   "source": [
    "fd = open(\"Inventory.json\", 'r')\n",
    "js = fd.read()\n",
    "fd.close()"
   ]
  },
  {
   "cell_type": "code",
   "execution_count": 4,
   "id": "fc2f5b8a-03c5-45aa-808d-b50916725aca",
   "metadata": {},
   "outputs": [
    {
     "data": {
      "text/plain": [
       "'{\"1\": {\"Name\": \"Five-Star\", \"Price\": 5, \"Quantity\": 100}, \"2\": {\"Name\": \"Barbon\", \"Price\": 15, \"Quantity\": 73}, \"3\": {\"Name\": \"kit-kat\", \"Price\": 25, \"Quantity\": 125}, \"4\": {\"Name\": \"Dairy Milk\", \"Price\": 40, \"Quantity\": 48}, \"5\": {\"Name\": \"Gai mithai\", \"Price\": 2, \"Quantity\": 300}}'"
      ]
     },
     "execution_count": 4,
     "metadata": {},
     "output_type": "execute_result"
    }
   ],
   "source": [
    "js"
   ]
  },
  {
   "cell_type": "code",
   "execution_count": 57,
   "id": "aee5ffab-2e20-4ed0-ba94-54c28b441568",
   "metadata": {},
   "outputs": [
    {
     "data": {
      "text/plain": [
       "{'1': {'Name': 'Five-Star', 'Price': 5, 'Quantity': 100},\n",
       " '2': {'Name': 'Barbon', 'Price': 15, 'Quantity': 78},\n",
       " '3': {'Name': 'kit-kat', 'Price': 25, 'Quantity': 125},\n",
       " '4': {'Name': 'Dairy Milk', 'Price': 40, 'Quantity': 48},\n",
       " '5': {'Name': 'Gai mithai', 'Price': 2, 'Quantity': 300}}"
      ]
     },
     "execution_count": 57,
     "metadata": {},
     "output_type": "execute_result"
    }
   ],
   "source": [
    "json.loads(js)\n"
   ]
  },
  {
   "cell_type": "code",
   "execution_count": 58,
   "id": "250309e6-252d-4488-8f15-bad432ce1323",
   "metadata": {},
   "outputs": [
    {
     "data": {
      "text/plain": [
       "'{\"1\": {\"Name\": \"Five-Star\", \"Price\": 5, \"Quantity\": 100}, \"2\": {\"Name\": \"Barbon\", \"Price\": 15, \"Quantity\": 78}, \"3\": {\"Name\": \"kit-kat\", \"Price\": 25, \"Quantity\": 125}, \"4\": {\"Name\": \"Dairy Milk\", \"Price\": 40, \"Quantity\": 48}, \"5\": {\"Name\": \"Gai mithai\", \"Price\": 2, \"Quantity\": 300}}'"
      ]
     },
     "execution_count": 58,
     "metadata": {},
     "output_type": "execute_result"
    }
   ],
   "source": [
    "js"
   ]
  },
  {
   "cell_type": "code",
   "execution_count": 59,
   "id": "e05ff9f7-979d-4980-85e9-e27988028d34",
   "metadata": {},
   "outputs": [
    {
     "data": {
      "text/plain": [
       "{1: {'Name': 'Five-Star', 'Price': 5, 'Quantity': 100},\n",
       " 2: {'Name': 'Barbon', 'Price': 15, 'Quantity': 78},\n",
       " 3: {'Name': 'kit-kat', 'Price': 25, 'Quantity': 125},\n",
       " 4: {'Name': 'Dairy Milk', 'Price': 40, 'Quantity': 48},\n",
       " 5: {'Name': 'Gai mithai', 'Price': 2, 'Quantity': 300}}"
      ]
     },
     "execution_count": 59,
     "metadata": {},
     "output_type": "execute_result"
    }
   ],
   "source": [
    "record"
   ]
  },
  {
   "cell_type": "code",
   "execution_count": 70,
   "id": "e7f165a6-566e-4d25-b539-5ad01bce7565",
   "metadata": {},
   "outputs": [
    {
     "name": "stdout",
     "output_type": "stream",
     "text": [
      "{'1': {'Name': 'Five-Star', 'Price': 5, 'Quantity': 100}, '2': {'Name': 'Barbon', 'Price': 15, 'Quantity': 78}, '3': {'Name': 'kit-kat', 'Price': 25, 'Quantity': 125}, '4': {'Name': 'Dairy Milk', 'Price': 40, 'Quantity': 48}, '5': {'Name': 'Gai mithai', 'Price': 2, 'Quantity': 300}}\n"
     ]
    }
   ],
   "source": [
    "print(json.loads(js))"
   ]
  },
  {
   "cell_type": "code",
   "execution_count": null,
   "id": "fe68adec-a1f6-4ed9-8074-ad88fc490fdf",
   "metadata": {},
   "outputs": [],
   "source": []
  }
 ],
 "metadata": {
  "kernelspec": {
   "display_name": "Python 3 (ipykernel)",
   "language": "python",
   "name": "python3"
  },
  "language_info": {
   "codemirror_mode": {
    "name": "ipython",
    "version": 3
   },
   "file_extension": ".py",
   "mimetype": "text/x-python",
   "name": "python",
   "nbconvert_exporter": "python",
   "pygments_lexer": "ipython3",
   "version": "3.11.5"
  }
 },
 "nbformat": 4,
 "nbformat_minor": 5
}
